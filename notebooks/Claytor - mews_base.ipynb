{
 "cells": [
  {
   "cell_type": "code",
   "execution_count": 17,
   "id": "56344b41",
   "metadata": {},
   "outputs": [],
   "source": [
    "import pandas as pd\n",
    "\n",
    "from sklearn.linear_model import LogisticRegression\n",
    "from sklearn.model_selection import train_test_split\n",
    "from sklearn.metrics import classification_report, accuracy_score, confusion_matrix, roc_curve\n",
    "from sklearn.model_selection import cross_val_score, KFold\n",
    "from cm import plot_confusion_matrix\n",
    "import pickle"
   ]
  },
  {
   "cell_type": "markdown",
   "id": "ead3932b",
   "metadata": {},
   "source": [
    "### Prep Training Data"
   ]
  },
  {
   "cell_type": "code",
   "execution_count": 18,
   "id": "d3b10d7a",
   "metadata": {
    "scrolled": true
   },
   "outputs": [
    {
     "name": "stdout",
     "output_type": "stream",
     "text": [
      "<class 'pandas.core.frame.DataFrame'>\n",
      "Int64Index: 78269 entries, 0 to 78268\n",
      "Data columns (total 18 columns):\n",
      " #   Column          Non-Null Count  Dtype \n",
      "---  ------          --------------  ----- \n",
      " 0   matchId         78269 non-null  int64 \n",
      " 1   teamId          78269 non-null  int64 \n",
      " 2   participantId   78269 non-null  int64 \n",
      " 3   summonerId      78269 non-null  int64 \n",
      " 4   summonerLevel   78269 non-null  int64 \n",
      " 5   championName    78269 non-null  object\n",
      " 6   championId      78269 non-null  int64 \n",
      " 7   championLevel   78269 non-null  int64 \n",
      " 8   championPoints  78269 non-null  int64 \n",
      " 9   chestGranted    78269 non-null  bool  \n",
      " 10  tokensEarned    78269 non-null  int64 \n",
      " 11  total_gold      78269 non-null  int64 \n",
      " 12  xp              78269 non-null  int64 \n",
      " 13  level           78269 non-null  int64 \n",
      " 14  position        78269 non-null  object\n",
      " 15  champ_stats     78269 non-null  object\n",
      " 16  damage_stats    78269 non-null  object\n",
      " 17  timestamp       78269 non-null  int64 \n",
      "dtypes: bool(1), int64(13), object(4)\n",
      "memory usage: 10.8+ MB\n"
     ]
    }
   ],
   "source": [
    "# bring in the participants data\n",
    "participants_train = pd.read_csv('../data/participants_train.csv')\n",
    "\n",
    "# bring in the champion_mastery info\n",
    "champion_mastery = pd.read_csv('../data/champion_mastery.csv')\n",
    "\n",
    "# merge champion mastery info in\n",
    "df = pd.merge(participants_train, champion_mastery, on = ['championId', 'summonerId'])\n",
    "\n",
    "# bring in stats data from the 10-minute mark\n",
    "stats = pd.read_pickle('../data/ten_min_stats.pkl')#.drop(columns = 'Unnamed: 0')\n",
    "\n",
    "# merge in stats\n",
    "df = (\n",
    "    pd.merge(df, \n",
    "             stats, \n",
    "             on = ['matchId', 'participantId'])\n",
    ")\n",
    "df.info()"
   ]
  },
  {
   "cell_type": "code",
   "execution_count": 19,
   "id": "92b048f1",
   "metadata": {
    "scrolled": true
   },
   "outputs": [],
   "source": [
    "# aggregate team stats\n",
    "team_stats = (\n",
    "    df\n",
    "    .groupby(['matchId', 'teamId'])\n",
    "    .agg(champion_level = ('championLevel', 'sum'),\n",
    "         champion_points = ('championPoints', 'sum'),\n",
    "         total_gold = ('total_gold', 'sum'),\n",
    "         total_xp = ('xp', 'sum'),\n",
    "         avg_level = ('level', 'mean'),\n",
    "         participants = ('participantId', 'count'))\n",
    "    .reset_index()\n",
    ")"
   ]
  },
  {
   "cell_type": "code",
   "execution_count": 20,
   "id": "3c2b75ba",
   "metadata": {},
   "outputs": [
    {
     "data": {
      "text/html": [
       "<div>\n",
       "<style scoped>\n",
       "    .dataframe tbody tr th:only-of-type {\n",
       "        vertical-align: middle;\n",
       "    }\n",
       "\n",
       "    .dataframe tbody tr th {\n",
       "        vertical-align: top;\n",
       "    }\n",
       "\n",
       "    .dataframe thead th {\n",
       "        text-align: right;\n",
       "    }\n",
       "</style>\n",
       "<table border=\"1\" class=\"dataframe\">\n",
       "  <thead>\n",
       "    <tr style=\"text-align: right;\">\n",
       "      <th></th>\n",
       "      <th>matchId</th>\n",
       "      <th>teamId</th>\n",
       "      <th>champion_level</th>\n",
       "      <th>champion_points</th>\n",
       "      <th>total_gold</th>\n",
       "      <th>total_xp</th>\n",
       "      <th>avg_level</th>\n",
       "      <th>participants</th>\n",
       "    </tr>\n",
       "  </thead>\n",
       "  <tbody>\n",
       "    <tr>\n",
       "      <th>3940</th>\n",
       "      <td>2014</td>\n",
       "      <td>100</td>\n",
       "      <td>24</td>\n",
       "      <td>2913158</td>\n",
       "      <td>17230</td>\n",
       "      <td>13816</td>\n",
       "      <td>7.0</td>\n",
       "      <td>4</td>\n",
       "    </tr>\n",
       "  </tbody>\n",
       "</table>\n",
       "</div>"
      ],
      "text/plain": [
       "      matchId  teamId  champion_level  champion_points  total_gold  total_xp  \\\n",
       "3940     2014     100              24          2913158       17230     13816   \n",
       "\n",
       "      avg_level  participants  \n",
       "3940        7.0             4  "
      ]
     },
     "execution_count": 20,
     "metadata": {},
     "output_type": "execute_result"
    }
   ],
   "source": [
    "# check for any teams that are missing participants due to missing data/merging\n",
    "team_stats.loc[team_stats['participants'] != 5]"
   ]
  },
  {
   "cell_type": "code",
   "execution_count": 21,
   "id": "8e58c889",
   "metadata": {},
   "outputs": [
    {
     "name": "stdout",
     "output_type": "stream",
     "text": [
      "<class 'pandas.core.frame.DataFrame'>\n",
      "Int64Index: 15652 entries, 0 to 15653\n",
      "Data columns (total 7 columns):\n",
      " #   Column           Non-Null Count  Dtype  \n",
      "---  ------           --------------  -----  \n",
      " 0   matchId          15652 non-null  int64  \n",
      " 1   teamId           15652 non-null  int64  \n",
      " 2   champion_level   15652 non-null  int64  \n",
      " 3   champion_points  15652 non-null  int64  \n",
      " 4   total_gold       15652 non-null  int64  \n",
      " 5   total_xp         15652 non-null  int64  \n",
      " 6   avg_level        15652 non-null  float64\n",
      "dtypes: float64(1), int64(6)\n",
      "memory usage: 978.2 KB\n"
     ]
    }
   ],
   "source": [
    "# pull out the match with a missing participant, clean up table\n",
    "team_stats = team_stats.loc[team_stats['matchId'] != 2014].drop(columns = 'participants')\n",
    "\n",
    "team_stats.info()"
   ]
  },
  {
   "cell_type": "code",
   "execution_count": 22,
   "id": "9f87c3d0",
   "metadata": {},
   "outputs": [
    {
     "data": {
      "text/html": [
       "<div>\n",
       "<style scoped>\n",
       "    .dataframe tbody tr th:only-of-type {\n",
       "        vertical-align: middle;\n",
       "    }\n",
       "\n",
       "    .dataframe tbody tr th {\n",
       "        vertical-align: top;\n",
       "    }\n",
       "\n",
       "    .dataframe thead th {\n",
       "        text-align: right;\n",
       "    }\n",
       "</style>\n",
       "<table border=\"1\" class=\"dataframe\">\n",
       "  <thead>\n",
       "    <tr style=\"text-align: right;\">\n",
       "      <th></th>\n",
       "      <th>matchId</th>\n",
       "      <th>teamId_100</th>\n",
       "      <th>champion_level_100</th>\n",
       "      <th>champion_points_100</th>\n",
       "      <th>total_gold_100</th>\n",
       "      <th>total_xp_100</th>\n",
       "      <th>avg_level_100</th>\n",
       "      <th>teamId_200</th>\n",
       "      <th>champion_level_200</th>\n",
       "      <th>champion_points_200</th>\n",
       "      <th>total_gold_200</th>\n",
       "      <th>total_xp_200</th>\n",
       "      <th>avg_level_200</th>\n",
       "      <th>winner</th>\n",
       "    </tr>\n",
       "  </thead>\n",
       "  <tbody>\n",
       "    <tr>\n",
       "      <th>0</th>\n",
       "      <td>0</td>\n",
       "      <td>100</td>\n",
       "      <td>30</td>\n",
       "      <td>844882</td>\n",
       "      <td>14146</td>\n",
       "      <td>17159</td>\n",
       "      <td>6.8</td>\n",
       "      <td>200</td>\n",
       "      <td>30</td>\n",
       "      <td>1450310</td>\n",
       "      <td>17539</td>\n",
       "      <td>18773</td>\n",
       "      <td>7.0</td>\n",
       "      <td>200</td>\n",
       "    </tr>\n",
       "    <tr>\n",
       "      <th>1</th>\n",
       "      <td>1</td>\n",
       "      <td>100</td>\n",
       "      <td>33</td>\n",
       "      <td>2227610</td>\n",
       "      <td>17662</td>\n",
       "      <td>17770</td>\n",
       "      <td>6.8</td>\n",
       "      <td>200</td>\n",
       "      <td>25</td>\n",
       "      <td>871583</td>\n",
       "      <td>14816</td>\n",
       "      <td>18028</td>\n",
       "      <td>6.8</td>\n",
       "      <td>200</td>\n",
       "    </tr>\n",
       "    <tr>\n",
       "      <th>2</th>\n",
       "      <td>2</td>\n",
       "      <td>100</td>\n",
       "      <td>25</td>\n",
       "      <td>391340</td>\n",
       "      <td>16374</td>\n",
       "      <td>16837</td>\n",
       "      <td>6.4</td>\n",
       "      <td>200</td>\n",
       "      <td>24</td>\n",
       "      <td>665251</td>\n",
       "      <td>17347</td>\n",
       "      <td>17467</td>\n",
       "      <td>6.8</td>\n",
       "      <td>200</td>\n",
       "    </tr>\n",
       "    <tr>\n",
       "      <th>3</th>\n",
       "      <td>3</td>\n",
       "      <td>100</td>\n",
       "      <td>28</td>\n",
       "      <td>640810</td>\n",
       "      <td>19247</td>\n",
       "      <td>17562</td>\n",
       "      <td>6.8</td>\n",
       "      <td>200</td>\n",
       "      <td>31</td>\n",
       "      <td>928477</td>\n",
       "      <td>15145</td>\n",
       "      <td>16196</td>\n",
       "      <td>6.4</td>\n",
       "      <td>100</td>\n",
       "    </tr>\n",
       "    <tr>\n",
       "      <th>4</th>\n",
       "      <td>4</td>\n",
       "      <td>100</td>\n",
       "      <td>28</td>\n",
       "      <td>645519</td>\n",
       "      <td>16776</td>\n",
       "      <td>18264</td>\n",
       "      <td>7.2</td>\n",
       "      <td>200</td>\n",
       "      <td>21</td>\n",
       "      <td>141851</td>\n",
       "      <td>15385</td>\n",
       "      <td>17194</td>\n",
       "      <td>6.6</td>\n",
       "      <td>200</td>\n",
       "    </tr>\n",
       "    <tr>\n",
       "      <th>...</th>\n",
       "      <td>...</td>\n",
       "      <td>...</td>\n",
       "      <td>...</td>\n",
       "      <td>...</td>\n",
       "      <td>...</td>\n",
       "      <td>...</td>\n",
       "      <td>...</td>\n",
       "      <td>...</td>\n",
       "      <td>...</td>\n",
       "      <td>...</td>\n",
       "      <td>...</td>\n",
       "      <td>...</td>\n",
       "      <td>...</td>\n",
       "      <td>...</td>\n",
       "    </tr>\n",
       "    <tr>\n",
       "      <th>7821</th>\n",
       "      <td>7995</td>\n",
       "      <td>100</td>\n",
       "      <td>30</td>\n",
       "      <td>1243322</td>\n",
       "      <td>19009</td>\n",
       "      <td>18803</td>\n",
       "      <td>7.2</td>\n",
       "      <td>200</td>\n",
       "      <td>30</td>\n",
       "      <td>1411140</td>\n",
       "      <td>14873</td>\n",
       "      <td>16977</td>\n",
       "      <td>6.8</td>\n",
       "      <td>200</td>\n",
       "    </tr>\n",
       "    <tr>\n",
       "      <th>7822</th>\n",
       "      <td>7996</td>\n",
       "      <td>100</td>\n",
       "      <td>28</td>\n",
       "      <td>1301721</td>\n",
       "      <td>16413</td>\n",
       "      <td>17298</td>\n",
       "      <td>6.6</td>\n",
       "      <td>200</td>\n",
       "      <td>30</td>\n",
       "      <td>557302</td>\n",
       "      <td>16140</td>\n",
       "      <td>17927</td>\n",
       "      <td>6.8</td>\n",
       "      <td>100</td>\n",
       "    </tr>\n",
       "    <tr>\n",
       "      <th>7823</th>\n",
       "      <td>7997</td>\n",
       "      <td>100</td>\n",
       "      <td>29</td>\n",
       "      <td>664485</td>\n",
       "      <td>17745</td>\n",
       "      <td>17090</td>\n",
       "      <td>6.8</td>\n",
       "      <td>200</td>\n",
       "      <td>29</td>\n",
       "      <td>1203774</td>\n",
       "      <td>16571</td>\n",
       "      <td>15721</td>\n",
       "      <td>6.6</td>\n",
       "      <td>200</td>\n",
       "    </tr>\n",
       "    <tr>\n",
       "      <th>7824</th>\n",
       "      <td>7998</td>\n",
       "      <td>100</td>\n",
       "      <td>26</td>\n",
       "      <td>290251</td>\n",
       "      <td>15543</td>\n",
       "      <td>15853</td>\n",
       "      <td>6.4</td>\n",
       "      <td>200</td>\n",
       "      <td>32</td>\n",
       "      <td>703659</td>\n",
       "      <td>18311</td>\n",
       "      <td>18654</td>\n",
       "      <td>7.2</td>\n",
       "      <td>200</td>\n",
       "    </tr>\n",
       "    <tr>\n",
       "      <th>7825</th>\n",
       "      <td>7999</td>\n",
       "      <td>100</td>\n",
       "      <td>26</td>\n",
       "      <td>3962209</td>\n",
       "      <td>17058</td>\n",
       "      <td>19319</td>\n",
       "      <td>7.0</td>\n",
       "      <td>200</td>\n",
       "      <td>27</td>\n",
       "      <td>301991</td>\n",
       "      <td>14892</td>\n",
       "      <td>18002</td>\n",
       "      <td>6.8</td>\n",
       "      <td>100</td>\n",
       "    </tr>\n",
       "  </tbody>\n",
       "</table>\n",
       "<p>7826 rows × 14 columns</p>\n",
       "</div>"
      ],
      "text/plain": [
       "      matchId  teamId_100  champion_level_100  champion_points_100  \\\n",
       "0           0         100                  30               844882   \n",
       "1           1         100                  33              2227610   \n",
       "2           2         100                  25               391340   \n",
       "3           3         100                  28               640810   \n",
       "4           4         100                  28               645519   \n",
       "...       ...         ...                 ...                  ...   \n",
       "7821     7995         100                  30              1243322   \n",
       "7822     7996         100                  28              1301721   \n",
       "7823     7997         100                  29               664485   \n",
       "7824     7998         100                  26               290251   \n",
       "7825     7999         100                  26              3962209   \n",
       "\n",
       "      total_gold_100  total_xp_100  avg_level_100  teamId_200  \\\n",
       "0              14146         17159            6.8         200   \n",
       "1              17662         17770            6.8         200   \n",
       "2              16374         16837            6.4         200   \n",
       "3              19247         17562            6.8         200   \n",
       "4              16776         18264            7.2         200   \n",
       "...              ...           ...            ...         ...   \n",
       "7821           19009         18803            7.2         200   \n",
       "7822           16413         17298            6.6         200   \n",
       "7823           17745         17090            6.8         200   \n",
       "7824           15543         15853            6.4         200   \n",
       "7825           17058         19319            7.0         200   \n",
       "\n",
       "      champion_level_200  champion_points_200  total_gold_200  total_xp_200  \\\n",
       "0                     30              1450310           17539         18773   \n",
       "1                     25               871583           14816         18028   \n",
       "2                     24               665251           17347         17467   \n",
       "3                     31               928477           15145         16196   \n",
       "4                     21               141851           15385         17194   \n",
       "...                  ...                  ...             ...           ...   \n",
       "7821                  30              1411140           14873         16977   \n",
       "7822                  30               557302           16140         17927   \n",
       "7823                  29              1203774           16571         15721   \n",
       "7824                  32               703659           18311         18654   \n",
       "7825                  27               301991           14892         18002   \n",
       "\n",
       "      avg_level_200  winner  \n",
       "0               7.0     200  \n",
       "1               6.8     200  \n",
       "2               6.8     200  \n",
       "3               6.4     100  \n",
       "4               6.6     200  \n",
       "...             ...     ...  \n",
       "7821            6.8     200  \n",
       "7822            6.8     100  \n",
       "7823            6.6     200  \n",
       "7824            7.2     200  \n",
       "7825            6.8     100  \n",
       "\n",
       "[7826 rows x 14 columns]"
      ]
     },
     "execution_count": 22,
     "metadata": {},
     "output_type": "execute_result"
    }
   ],
   "source": [
    "# separate out the teams for each match so they can be put into the same row\n",
    "team_100s = team_stats.loc[team_stats['teamId'] == 100].reset_index(drop = True)\n",
    "\n",
    "team_200s = team_stats.loc[team_stats['teamId'] == 200].reset_index(drop = True)\n",
    "\n",
    "# merge so that data for both teams is horizontally arranged\n",
    "model_df = pd.merge(team_100s, team_200s, on = 'matchId', suffixes = ('_100', '_200'))\n",
    "\n",
    "#bring in and merge the winners data\n",
    "winners = pd.read_csv('../data/train_winners.csv')\n",
    "\n",
    "model_df = pd.merge(model_df,\n",
    "                    winners, \n",
    "                    how = 'left',\n",
    "                    on = 'matchId')\n",
    "\n",
    "model_df"
   ]
  },
  {
   "cell_type": "markdown",
   "id": "979364e9",
   "metadata": {},
   "source": [
    "### Build the model"
   ]
  },
  {
   "cell_type": "markdown",
   "id": "076c402c",
   "metadata": {},
   "source": [
    "- Use total champion level, total gold, and total xp for each team"
   ]
  },
  {
   "cell_type": "code",
   "execution_count": 23,
   "id": "cb018074",
   "metadata": {},
   "outputs": [],
   "source": [
    "variables = ['champion_level_100', 'total_gold_100', 'total_xp_100',\n",
    "             'champion_level_200','total_gold_200', 'total_xp_200']\n",
    "\n",
    "X = model_df[variables]\n",
    "\n",
    "y = model_df['winner']\n",
    "\n",
    "X_train, X_test, y_train, y_test = train_test_split(X, y, random_state = 321, stratify = y)\n",
    "\n",
    "logreg1 = LogisticRegression().fit(X_train, y_train)"
   ]
  },
  {
   "cell_type": "code",
   "execution_count": 24,
   "id": "fb842861",
   "metadata": {},
   "outputs": [
    {
     "data": {
      "text/plain": [
       "array([[0.20531841, 0.79468159],\n",
       "       [0.85989574, 0.14010426],\n",
       "       [0.26722605, 0.73277395],\n",
       "       ...,\n",
       "       [0.20009581, 0.79990419],\n",
       "       [0.18886142, 0.81113858],\n",
       "       [0.67547496, 0.32452504]])"
      ]
     },
     "execution_count": 24,
     "metadata": {},
     "output_type": "execute_result"
    }
   ],
   "source": [
    "logreg1.predict_proba(X_test)"
   ]
  },
  {
   "cell_type": "code",
   "execution_count": 25,
   "id": "292c43ce",
   "metadata": {
    "scrolled": true
   },
   "outputs": [
    {
     "data": {
      "text/html": [
       "<div>\n",
       "<style scoped>\n",
       "    .dataframe tbody tr th:only-of-type {\n",
       "        vertical-align: middle;\n",
       "    }\n",
       "\n",
       "    .dataframe tbody tr th {\n",
       "        vertical-align: top;\n",
       "    }\n",
       "\n",
       "    .dataframe thead th {\n",
       "        text-align: right;\n",
       "    }\n",
       "</style>\n",
       "<table border=\"1\" class=\"dataframe\">\n",
       "  <thead>\n",
       "    <tr style=\"text-align: right;\">\n",
       "      <th></th>\n",
       "      <th>champion_level_100</th>\n",
       "      <th>total_gold_100</th>\n",
       "      <th>total_xp_100</th>\n",
       "      <th>champion_level_200</th>\n",
       "      <th>total_gold_200</th>\n",
       "      <th>total_xp_200</th>\n",
       "      <th>prob_100</th>\n",
       "      <th>prob_200</th>\n",
       "      <th>prediction</th>\n",
       "      <th>true</th>\n",
       "    </tr>\n",
       "  </thead>\n",
       "  <tbody>\n",
       "    <tr>\n",
       "      <th>2555</th>\n",
       "      <td>20</td>\n",
       "      <td>14612</td>\n",
       "      <td>16968</td>\n",
       "      <td>32</td>\n",
       "      <td>15990</td>\n",
       "      <td>18204</td>\n",
       "      <td>0.205318</td>\n",
       "      <td>0.794682</td>\n",
       "      <td>200</td>\n",
       "      <td>200</td>\n",
       "    </tr>\n",
       "    <tr>\n",
       "      <th>6815</th>\n",
       "      <td>28</td>\n",
       "      <td>16544</td>\n",
       "      <td>18102</td>\n",
       "      <td>26</td>\n",
       "      <td>13254</td>\n",
       "      <td>16725</td>\n",
       "      <td>0.859896</td>\n",
       "      <td>0.140104</td>\n",
       "      <td>100</td>\n",
       "      <td>100</td>\n",
       "    </tr>\n",
       "    <tr>\n",
       "      <th>799</th>\n",
       "      <td>25</td>\n",
       "      <td>16744</td>\n",
       "      <td>16143</td>\n",
       "      <td>28</td>\n",
       "      <td>18281</td>\n",
       "      <td>17560</td>\n",
       "      <td>0.267226</td>\n",
       "      <td>0.732774</td>\n",
       "      <td>200</td>\n",
       "      <td>200</td>\n",
       "    </tr>\n",
       "    <tr>\n",
       "      <th>4777</th>\n",
       "      <td>29</td>\n",
       "      <td>16795</td>\n",
       "      <td>18448</td>\n",
       "      <td>30</td>\n",
       "      <td>13688</td>\n",
       "      <td>18083</td>\n",
       "      <td>0.808635</td>\n",
       "      <td>0.191365</td>\n",
       "      <td>100</td>\n",
       "      <td>200</td>\n",
       "    </tr>\n",
       "    <tr>\n",
       "      <th>7209</th>\n",
       "      <td>29</td>\n",
       "      <td>14491</td>\n",
       "      <td>15139</td>\n",
       "      <td>30</td>\n",
       "      <td>17782</td>\n",
       "      <td>17348</td>\n",
       "      <td>0.138494</td>\n",
       "      <td>0.861506</td>\n",
       "      <td>200</td>\n",
       "      <td>200</td>\n",
       "    </tr>\n",
       "    <tr>\n",
       "      <th>...</th>\n",
       "      <td>...</td>\n",
       "      <td>...</td>\n",
       "      <td>...</td>\n",
       "      <td>...</td>\n",
       "      <td>...</td>\n",
       "      <td>...</td>\n",
       "      <td>...</td>\n",
       "      <td>...</td>\n",
       "      <td>...</td>\n",
       "      <td>...</td>\n",
       "    </tr>\n",
       "    <tr>\n",
       "      <th>1665</th>\n",
       "      <td>30</td>\n",
       "      <td>19099</td>\n",
       "      <td>17930</td>\n",
       "      <td>27</td>\n",
       "      <td>17464</td>\n",
       "      <td>17852</td>\n",
       "      <td>0.719432</td>\n",
       "      <td>0.280568</td>\n",
       "      <td>100</td>\n",
       "      <td>200</td>\n",
       "    </tr>\n",
       "    <tr>\n",
       "      <th>2321</th>\n",
       "      <td>30</td>\n",
       "      <td>13457</td>\n",
       "      <td>17389</td>\n",
       "      <td>20</td>\n",
       "      <td>17249</td>\n",
       "      <td>18633</td>\n",
       "      <td>0.182356</td>\n",
       "      <td>0.817644</td>\n",
       "      <td>200</td>\n",
       "      <td>100</td>\n",
       "    </tr>\n",
       "    <tr>\n",
       "      <th>5569</th>\n",
       "      <td>32</td>\n",
       "      <td>13479</td>\n",
       "      <td>16715</td>\n",
       "      <td>26</td>\n",
       "      <td>16535</td>\n",
       "      <td>18455</td>\n",
       "      <td>0.200096</td>\n",
       "      <td>0.799904</td>\n",
       "      <td>200</td>\n",
       "      <td>200</td>\n",
       "    </tr>\n",
       "    <tr>\n",
       "      <th>1913</th>\n",
       "      <td>24</td>\n",
       "      <td>14449</td>\n",
       "      <td>16817</td>\n",
       "      <td>26</td>\n",
       "      <td>16913</td>\n",
       "      <td>18352</td>\n",
       "      <td>0.188861</td>\n",
       "      <td>0.811139</td>\n",
       "      <td>200</td>\n",
       "      <td>200</td>\n",
       "    </tr>\n",
       "    <tr>\n",
       "      <th>391</th>\n",
       "      <td>26</td>\n",
       "      <td>16692</td>\n",
       "      <td>19153</td>\n",
       "      <td>23</td>\n",
       "      <td>15906</td>\n",
       "      <td>17546</td>\n",
       "      <td>0.675475</td>\n",
       "      <td>0.324525</td>\n",
       "      <td>100</td>\n",
       "      <td>200</td>\n",
       "    </tr>\n",
       "  </tbody>\n",
       "</table>\n",
       "<p>1957 rows × 10 columns</p>\n",
       "</div>"
      ],
      "text/plain": [
       "      champion_level_100  total_gold_100  total_xp_100  champion_level_200  \\\n",
       "2555                  20           14612         16968                  32   \n",
       "6815                  28           16544         18102                  26   \n",
       "799                   25           16744         16143                  28   \n",
       "4777                  29           16795         18448                  30   \n",
       "7209                  29           14491         15139                  30   \n",
       "...                  ...             ...           ...                 ...   \n",
       "1665                  30           19099         17930                  27   \n",
       "2321                  30           13457         17389                  20   \n",
       "5569                  32           13479         16715                  26   \n",
       "1913                  24           14449         16817                  26   \n",
       "391                   26           16692         19153                  23   \n",
       "\n",
       "      total_gold_200  total_xp_200  prob_100  prob_200  prediction  true  \n",
       "2555           15990         18204  0.205318  0.794682         200   200  \n",
       "6815           13254         16725  0.859896  0.140104         100   100  \n",
       "799            18281         17560  0.267226  0.732774         200   200  \n",
       "4777           13688         18083  0.808635  0.191365         100   200  \n",
       "7209           17782         17348  0.138494  0.861506         200   200  \n",
       "...              ...           ...       ...       ...         ...   ...  \n",
       "1665           17464         17852  0.719432  0.280568         100   200  \n",
       "2321           17249         18633  0.182356  0.817644         200   100  \n",
       "5569           16535         18455  0.200096  0.799904         200   200  \n",
       "1913           16913         18352  0.188861  0.811139         200   200  \n",
       "391            15906         17546  0.675475  0.324525         100   200  \n",
       "\n",
       "[1957 rows x 10 columns]"
      ]
     },
     "execution_count": 25,
     "metadata": {},
     "output_type": "execute_result"
    }
   ],
   "source": [
    "X_test.assign(prob_100 = logreg1.predict_proba(X_test)[:,0],\n",
    "              prob_200 = logreg1.predict_proba(X_test)[:,1],\n",
    "              prediction = logreg1.predict(X_test),\n",
    "              true = y_test)"
   ]
  },
  {
   "cell_type": "code",
   "execution_count": 26,
   "id": "ead70af3",
   "metadata": {},
   "outputs": [
    {
     "name": "stdout",
     "output_type": "stream",
     "text": [
      "              precision    recall  f1-score   support\n",
      "\n",
      "         100       0.70      0.72      0.71       995\n",
      "         200       0.70      0.69      0.70       962\n",
      "\n",
      "    accuracy                           0.70      1957\n",
      "   macro avg       0.70      0.70      0.70      1957\n",
      "weighted avg       0.70      0.70      0.70      1957\n",
      "\n"
     ]
    }
   ],
   "source": [
    "print(classification_report(y_test, logreg1.predict(X_test)))"
   ]
  },
  {
   "cell_type": "code",
   "execution_count": 27,
   "id": "2451023d",
   "metadata": {
    "scrolled": false
   },
   "outputs": [
    {
     "data": {
      "image/png": "[encoded data removed]",
      "text/plain": [
       "<Figure size 600x600 with 1 Axes>"
      ]
     },
     "metadata": {},
     "output_type": "display_data"
    }
   ],
   "source": [
    "plot_confusion_matrix(y_test, logreg1.predict(X_test), labels = ['100 Wins', '200 Wins']);"
   ]
  },
  {
   "cell_type": "code",
   "execution_count": 28,
   "id": "b6e9d332",
   "metadata": {},
   "outputs": [
    {
     "data": {
      "text/plain": [
       "0.7041389882473174"
      ]
     },
     "execution_count": 28,
     "metadata": {},
     "output_type": "execute_result"
    }
   ],
   "source": [
    "accuracy_score(y_test, logreg1.predict(X_test))"
   ]
  },
  {
   "cell_type": "code",
   "execution_count": 29,
   "id": "1e39428d",
   "metadata": {},
   "outputs": [],
   "source": [
    "import matplotlib.pyplot as plt"
   ]
  },
  {
   "cell_type": "code",
   "execution_count": 30,
   "id": "9d71f218",
   "metadata": {},
   "outputs": [
    {
     "data": {
      "image/png": "[encoded data removed]",
      "text/plain": [
       "<Figure size 640x480 with 1 Axes>"
      ]
     },
     "metadata": {},
     "output_type": "display_data"
    }
   ],
   "source": [
    "y_pred_probs = logreg1.predict_proba(X_test)[:, 1]\n",
    "tf_y_test = y_test == 200\n",
    "\n",
    "fpr, tpr, thresholds = roc_curve(tf_y_test, y_pred_probs)\n",
    "plt.plot([0, 1], [0, 1], 'k--')\n",
    "plt.plot(fpr, tpr)\n",
    "plt.xlabel('False Positive Rate')\n",
    "plt.ylabel('True Positive Rate')\n",
    "plt.title('Logistic Regression ROC Curve')\n",
    "plt.show()"
   ]
  },
  {
   "cell_type": "markdown",
   "id": "79719ca1",
   "metadata": {},
   "source": [
    "- Swap champion points out for champion level"
   ]
  },
  {
   "cell_type": "code",
   "execution_count": 31,
   "id": "23431101",
   "metadata": {},
   "outputs": [],
   "source": [
    "variables = ['champion_points_100', 'total_gold_100', 'total_xp_100',\n",
    "             'champion_points_200', 'total_gold_200', 'total_xp_200']\n",
    "\n",
    "X = model_df[variables]\n",
    "\n",
    "y = model_df['winner']\n",
    "\n",
    "X_train, X_test, y_train, y_test = train_test_split(X, y, random_state = 321, stratify = y)\n",
    "\n",
    "logreg2 = LogisticRegression().fit(X_train, y_train)"
   ]
  },
  {
   "cell_type": "code",
   "execution_count": 32,
   "id": "b919b745",
   "metadata": {},
   "outputs": [
    {
     "data": {
      "text/plain": [
       "array([[0.30877922, 0.69122078],\n",
       "       [0.8525148 , 0.1474852 ],\n",
       "       [0.28161691, 0.71838309],\n",
       "       ...,\n",
       "       [0.16616901, 0.83383099],\n",
       "       [0.20800988, 0.79199012],\n",
       "       [0.68860271, 0.31139729]])"
      ]
     },
     "execution_count": 32,
     "metadata": {},
     "output_type": "execute_result"
    }
   ],
   "source": [
    "logreg2.predict_proba(X_test)"
   ]
  },
  {
   "cell_type": "code",
   "execution_count": 33,
   "id": "c889b3ee",
   "metadata": {},
   "outputs": [
    {
     "name": "stdout",
     "output_type": "stream",
     "text": [
      "              precision    recall  f1-score   support\n",
      "\n",
      "         100       0.70      0.72      0.71       995\n",
      "         200       0.70      0.68      0.69       962\n",
      "\n",
      "    accuracy                           0.70      1957\n",
      "   macro avg       0.70      0.70      0.70      1957\n",
      "weighted avg       0.70      0.70      0.70      1957\n",
      "\n"
     ]
    }
   ],
   "source": [
    "print(classification_report(y_test, logreg2.predict(X_test)))"
   ]
  },
  {
   "cell_type": "code",
   "execution_count": 34,
   "id": "61533588",
   "metadata": {},
   "outputs": [
    {
     "data": {
      "image/png": "[encoded data removed]",
      "text/plain": [
       "<Figure size 640x480 with 1 Axes>"
      ]
     },
     "metadata": {},
     "output_type": "display_data"
    }
   ],
   "source": [
    "y_pred_probs = logreg2.predict_proba(X_test)[:, 1]\n",
    "tf_y_test = y_test == 200\n",
    "\n",
    "fpr, tpr, thresholds = roc_curve(tf_y_test, y_pred_probs)\n",
    "plt.plot([0, 1], [0, 1], 'k--')\n",
    "plt.plot(fpr, tpr)\n",
    "plt.xlabel('False Positive Rate')\n",
    "plt.ylabel('True Positive Rate')\n",
    "plt.title('Logistic Regression ROC Curve')\n",
    "plt.show()"
   ]
  },
  {
   "cell_type": "markdown",
   "id": "9caa55ee",
   "metadata": {},
   "source": [
    "The first one has slightly better F1 and Recall values, so that's what we'll fit to the model"
   ]
  },
  {
   "cell_type": "markdown",
   "id": "7caecbf3",
   "metadata": {},
   "source": [
    "### Get preditions using test data"
   ]
  },
  {
   "cell_type": "code",
   "execution_count": 37,
   "id": "014a74c9",
   "metadata": {},
   "outputs": [
    {
     "ename": "UnicodeDecodeError",
     "evalue": "'utf-8' codec can't decode byte 0x80 in position 0: invalid start byte",
     "output_type": "error",
     "traceback": [
      "\u001b[0;31m---------------------------------------------------------------------------\u001b[0m",
      "\u001b[0;31mUnicodeDecodeError\u001b[0m                        Traceback (most recent call last)",
      "Cell \u001b[0;32mIn[37], line 11\u001b[0m\n\u001b[1;32m      8\u001b[0m df \u001b[39m=\u001b[39m pd\u001b[39m.\u001b[39mmerge(participants_test, champion_mastery, on \u001b[39m=\u001b[39m [\u001b[39m'\u001b[39m\u001b[39mchampionId\u001b[39m\u001b[39m'\u001b[39m, \u001b[39m'\u001b[39m\u001b[39msummonerId\u001b[39m\u001b[39m'\u001b[39m])\n\u001b[1;32m     10\u001b[0m \u001b[39m# bring in stats data from the 10-minute mark\u001b[39;00m\n\u001b[0;32m---> 11\u001b[0m stats \u001b[39m=\u001b[39m pd\u001b[39m.\u001b[39;49mread_csv(\u001b[39m'\u001b[39;49m\u001b[39m../data/test_ten_min_stats.pkl\u001b[39;49m\u001b[39m'\u001b[39;49m)\u001b[39m.\u001b[39mdrop(columns \u001b[39m=\u001b[39m \u001b[39m'\u001b[39m\u001b[39mUnnamed: 0\u001b[39m\u001b[39m'\u001b[39m)\n\u001b[1;32m     13\u001b[0m \u001b[39m# merge in stats\u001b[39;00m\n\u001b[1;32m     14\u001b[0m df \u001b[39m=\u001b[39m (\n\u001b[1;32m     15\u001b[0m     pd\u001b[39m.\u001b[39mmerge(df, \n\u001b[1;32m     16\u001b[0m              stats, \n\u001b[1;32m     17\u001b[0m              on \u001b[39m=\u001b[39m [\u001b[39m'\u001b[39m\u001b[39mmatchId\u001b[39m\u001b[39m'\u001b[39m, \u001b[39m'\u001b[39m\u001b[39mparticipantId\u001b[39m\u001b[39m'\u001b[39m])\n\u001b[1;32m     18\u001b[0m )\n",
      "File \u001b[0;32m~/anaconda3/lib/python3.9/site-packages/pandas/util/_decorators.py:211\u001b[0m, in \u001b[0;36mdeprecate_kwarg.<locals>._deprecate_kwarg.<locals>.wrapper\u001b[0;34m(*args, **kwargs)\u001b[0m\n\u001b[1;32m    209\u001b[0m     \u001b[39melse\u001b[39;00m:\n\u001b[1;32m    210\u001b[0m         kwargs[new_arg_name] \u001b[39m=\u001b[39m new_arg_value\n\u001b[0;32m--> 211\u001b[0m \u001b[39mreturn\u001b[39;00m func(\u001b[39m*\u001b[39;49margs, \u001b[39m*\u001b[39;49m\u001b[39m*\u001b[39;49mkwargs)\n",
      "File \u001b[0;32m~/anaconda3/lib/python3.9/site-packages/pandas/util/_decorators.py:331\u001b[0m, in \u001b[0;36mdeprecate_nonkeyword_arguments.<locals>.decorate.<locals>.wrapper\u001b[0;34m(*args, **kwargs)\u001b[0m\n\u001b[1;32m    325\u001b[0m \u001b[39mif\u001b[39;00m \u001b[39mlen\u001b[39m(args) \u001b[39m>\u001b[39m num_allow_args:\n\u001b[1;32m    326\u001b[0m     warnings\u001b[39m.\u001b[39mwarn(\n\u001b[1;32m    327\u001b[0m         msg\u001b[39m.\u001b[39mformat(arguments\u001b[39m=\u001b[39m_format_argument_list(allow_args)),\n\u001b[1;32m    328\u001b[0m         \u001b[39mFutureWarning\u001b[39;00m,\n\u001b[1;32m    329\u001b[0m         stacklevel\u001b[39m=\u001b[39mfind_stack_level(),\n\u001b[1;32m    330\u001b[0m     )\n\u001b[0;32m--> 331\u001b[0m \u001b[39mreturn\u001b[39;00m func(\u001b[39m*\u001b[39;49margs, \u001b[39m*\u001b[39;49m\u001b[39m*\u001b[39;49mkwargs)\n",
      "File \u001b[0;32m~/anaconda3/lib/python3.9/site-packages/pandas/io/parsers/readers.py:950\u001b[0m, in \u001b[0;36mread_csv\u001b[0;34m(filepath_or_buffer, sep, delimiter, header, names, index_col, usecols, squeeze, prefix, mangle_dupe_cols, dtype, engine, converters, true_values, false_values, skipinitialspace, skiprows, skipfooter, nrows, na_values, keep_default_na, na_filter, verbose, skip_blank_lines, parse_dates, infer_datetime_format, keep_date_col, date_parser, dayfirst, cache_dates, iterator, chunksize, compression, thousands, decimal, lineterminator, quotechar, quoting, doublequote, escapechar, comment, encoding, encoding_errors, dialect, error_bad_lines, warn_bad_lines, on_bad_lines, delim_whitespace, low_memory, memory_map, float_precision, storage_options)\u001b[0m\n\u001b[1;32m    935\u001b[0m kwds_defaults \u001b[39m=\u001b[39m _refine_defaults_read(\n\u001b[1;32m    936\u001b[0m     dialect,\n\u001b[1;32m    937\u001b[0m     delimiter,\n\u001b[0;32m   (...)\u001b[0m\n\u001b[1;32m    946\u001b[0m     defaults\u001b[39m=\u001b[39m{\u001b[39m\"\u001b[39m\u001b[39mdelimiter\u001b[39m\u001b[39m\"\u001b[39m: \u001b[39m\"\u001b[39m\u001b[39m,\u001b[39m\u001b[39m\"\u001b[39m},\n\u001b[1;32m    947\u001b[0m )\n\u001b[1;32m    948\u001b[0m kwds\u001b[39m.\u001b[39mupdate(kwds_defaults)\n\u001b[0;32m--> 950\u001b[0m \u001b[39mreturn\u001b[39;00m _read(filepath_or_buffer, kwds)\n",
      "File \u001b[0;32m~/anaconda3/lib/python3.9/site-packages/pandas/io/parsers/readers.py:605\u001b[0m, in \u001b[0;36m_read\u001b[0;34m(filepath_or_buffer, kwds)\u001b[0m\n\u001b[1;32m    602\u001b[0m _validate_names(kwds\u001b[39m.\u001b[39mget(\u001b[39m\"\u001b[39m\u001b[39mnames\u001b[39m\u001b[39m\"\u001b[39m, \u001b[39mNone\u001b[39;00m))\n\u001b[1;32m    604\u001b[0m \u001b[39m# Create the parser.\u001b[39;00m\n\u001b[0;32m--> 605\u001b[0m parser \u001b[39m=\u001b[39m TextFileReader(filepath_or_buffer, \u001b[39m*\u001b[39;49m\u001b[39m*\u001b[39;49mkwds)\n\u001b[1;32m    607\u001b[0m \u001b[39mif\u001b[39;00m chunksize \u001b[39mor\u001b[39;00m iterator:\n\u001b[1;32m    608\u001b[0m     \u001b[39mreturn\u001b[39;00m parser\n",
      "File \u001b[0;32m~/anaconda3/lib/python3.9/site-packages/pandas/io/parsers/readers.py:1442\u001b[0m, in \u001b[0;36mTextFileReader.__init__\u001b[0;34m(self, f, engine, **kwds)\u001b[0m\n\u001b[1;32m   1439\u001b[0m     \u001b[39mself\u001b[39m\u001b[39m.\u001b[39moptions[\u001b[39m\"\u001b[39m\u001b[39mhas_index_names\u001b[39m\u001b[39m\"\u001b[39m] \u001b[39m=\u001b[39m kwds[\u001b[39m\"\u001b[39m\u001b[39mhas_index_names\u001b[39m\u001b[39m\"\u001b[39m]\n\u001b[1;32m   1441\u001b[0m \u001b[39mself\u001b[39m\u001b[39m.\u001b[39mhandles: IOHandles \u001b[39m|\u001b[39m \u001b[39mNone\u001b[39;00m \u001b[39m=\u001b[39m \u001b[39mNone\u001b[39;00m\n\u001b[0;32m-> 1442\u001b[0m \u001b[39mself\u001b[39m\u001b[39m.\u001b[39m_engine \u001b[39m=\u001b[39m \u001b[39mself\u001b[39;49m\u001b[39m.\u001b[39;49m_make_engine(f, \u001b[39mself\u001b[39;49m\u001b[39m.\u001b[39;49mengine)\n",
      "File \u001b[0;32m~/anaconda3/lib/python3.9/site-packages/pandas/io/parsers/readers.py:1753\u001b[0m, in \u001b[0;36mTextFileReader._make_engine\u001b[0;34m(self, f, engine)\u001b[0m\n\u001b[1;32m   1750\u001b[0m     \u001b[39mraise\u001b[39;00m \u001b[39mValueError\u001b[39;00m(msg)\n\u001b[1;32m   1752\u001b[0m \u001b[39mtry\u001b[39;00m:\n\u001b[0;32m-> 1753\u001b[0m     \u001b[39mreturn\u001b[39;00m mapping[engine](f, \u001b[39m*\u001b[39;49m\u001b[39m*\u001b[39;49m\u001b[39mself\u001b[39;49m\u001b[39m.\u001b[39;49moptions)\n\u001b[1;32m   1754\u001b[0m \u001b[39mexcept\u001b[39;00m \u001b[39mException\u001b[39;00m:\n\u001b[1;32m   1755\u001b[0m     \u001b[39mif\u001b[39;00m \u001b[39mself\u001b[39m\u001b[39m.\u001b[39mhandles \u001b[39mis\u001b[39;00m \u001b[39mnot\u001b[39;00m \u001b[39mNone\u001b[39;00m:\n",
      "File \u001b[0;32m~/anaconda3/lib/python3.9/site-packages/pandas/io/parsers/c_parser_wrapper.py:79\u001b[0m, in \u001b[0;36mCParserWrapper.__init__\u001b[0;34m(self, src, **kwds)\u001b[0m\n\u001b[1;32m     76\u001b[0m     kwds\u001b[39m.\u001b[39mpop(key, \u001b[39mNone\u001b[39;00m)\n\u001b[1;32m     78\u001b[0m kwds[\u001b[39m\"\u001b[39m\u001b[39mdtype\u001b[39m\u001b[39m\"\u001b[39m] \u001b[39m=\u001b[39m ensure_dtype_objs(kwds\u001b[39m.\u001b[39mget(\u001b[39m\"\u001b[39m\u001b[39mdtype\u001b[39m\u001b[39m\"\u001b[39m, \u001b[39mNone\u001b[39;00m))\n\u001b[0;32m---> 79\u001b[0m \u001b[39mself\u001b[39m\u001b[39m.\u001b[39m_reader \u001b[39m=\u001b[39m parsers\u001b[39m.\u001b[39;49mTextReader(src, \u001b[39m*\u001b[39;49m\u001b[39m*\u001b[39;49mkwds)\n\u001b[1;32m     81\u001b[0m \u001b[39mself\u001b[39m\u001b[39m.\u001b[39munnamed_cols \u001b[39m=\u001b[39m \u001b[39mself\u001b[39m\u001b[39m.\u001b[39m_reader\u001b[39m.\u001b[39munnamed_cols\n\u001b[1;32m     83\u001b[0m \u001b[39m# error: Cannot determine type of 'names'\u001b[39;00m\n",
      "File \u001b[0;32m~/anaconda3/lib/python3.9/site-packages/pandas/_libs/parsers.pyx:547\u001b[0m, in \u001b[0;36mpandas._libs.parsers.TextReader.__cinit__\u001b[0;34m()\u001b[0m\n",
      "File \u001b[0;32m~/anaconda3/lib/python3.9/site-packages/pandas/_libs/parsers.pyx:636\u001b[0m, in \u001b[0;36mpandas._libs.parsers.TextReader._get_header\u001b[0;34m()\u001b[0m\n",
      "File \u001b[0;32m~/anaconda3/lib/python3.9/site-packages/pandas/_libs/parsers.pyx:852\u001b[0m, in \u001b[0;36mpandas._libs.parsers.TextReader._tokenize_rows\u001b[0;34m()\u001b[0m\n",
      "File \u001b[0;32m~/anaconda3/lib/python3.9/site-packages/pandas/_libs/parsers.pyx:1965\u001b[0m, in \u001b[0;36mpandas._libs.parsers.raise_parser_error\u001b[0;34m()\u001b[0m\n",
      "\u001b[0;31mUnicodeDecodeError\u001b[0m: 'utf-8' codec can't decode byte 0x80 in position 0: invalid start byte"
     ]
    }
   ],
   "source": [
    "# bring in the participants data\n",
    "participants_test = pd.read_csv('../data/participants_test.csv')\n",
    "\n",
    "# bring in the champion_mastery info\n",
    "champion_mastery = pd.read_csv('../data/champion_mastery.csv')\n",
    "\n",
    "# merge champion mastery info in\n",
    "df = pd.merge(participants_test, champion_mastery, on = ['championId', 'summonerId'])\n",
    "\n",
    "# bring in stats data from the 10-minute mark\n",
    "stats = pd.read_csv('../data/test_ten_min_stats.pkl').drop(columns = 'Unnamed: 0')\n",
    "\n",
    "# merge in stats\n",
    "df = (\n",
    "    pd.merge(df, \n",
    "             stats, \n",
    "             on = ['matchId', 'participantId'])\n",
    ")"
   ]
  },
  {
   "cell_type": "markdown",
   "id": "84525ce5",
   "metadata": {},
   "source": []
  },
  {
   "cell_type": "code",
   "execution_count": null,
   "id": "d2744077",
   "metadata": {},
   "outputs": [],
   "source": [
    "# aggregate team stats\n",
    "test_team_stats = (\n",
    "    df\n",
    "    .groupby(['matchId', 'teamId'])\n",
    "    .agg(champion_level = ('championLevel', 'sum'),\n",
    "         champion_points = ('championPoints', 'sum'),\n",
    "         total_gold = ('total_gold', 'sum'),\n",
    "         total_xp = ('xp', 'sum'),\n",
    "         avg_level = ('level', 'mean'),\n",
    "         participants = ('participantId', 'count'))\n",
    "    .reset_index()\n",
    ")"
   ]
  },
  {
   "cell_type": "code",
   "execution_count": null,
   "id": "82335f52",
   "metadata": {},
   "outputs": [],
   "source": [
    "# separate out the teams for each match so they can be put into the same row\n",
    "test_team_100s = test_team_stats.loc[test_team_stats['teamId'] == 100].reset_index(drop = True)\n",
    "\n",
    "test_team_200s = test_team_stats.loc[test_team_stats['teamId'] == 200].reset_index(drop = True)\n",
    "\n",
    "# merge so that data for both teams is horizontally arranged\n",
    "test_model_df = pd.merge(test_team_100s, test_team_200s, on = 'matchId', suffixes = ('_100', '_200'))\n",
    "\n",
    "test_model_df"
   ]
  },
  {
   "cell_type": "code",
   "execution_count": null,
   "id": "33569adc",
   "metadata": {},
   "outputs": [],
   "source": [
    "variables = ['champion_level_100', 'total_gold_100', 'total_xp_100',\n",
    "             'champion_level_200','total_gold_200', 'total_xp_200']\n",
    "\n",
    "test_X = test_model_df[variables]\n",
    "\n",
    "submission_predictions = pd.DataFrame(logreg1.predict(test_X)).rename(columns = {0 : 'winner'})"
   ]
  },
  {
   "cell_type": "code",
   "execution_count": null,
   "id": "1d67730f",
   "metadata": {},
   "outputs": [],
   "source": [
    "submission = pd.merge(test_model_df['matchId'], submission_predictions, left_index = True, right_index = True )\n",
    "submission"
   ]
  },
  {
   "cell_type": "code",
   "execution_count": null,
   "id": "5bb9a1c4",
   "metadata": {},
   "outputs": [],
   "source": [
    "submission.to_csv('../data/submission_2023-28-03_v01.csv', index = False)"
   ]
  },
  {
   "cell_type": "code",
   "execution_count": null,
   "id": "accf40bf",
   "metadata": {},
   "outputs": [],
   "source": []
  }
 ],
 "metadata": {
  "kernelspec": {
   "display_name": "Python 3 (ipykernel)",
   "language": "python",
   "name": "python3"
  },
  "language_info": {
   "codemirror_mode": {
    "name": "ipython",
    "version": 3
   },
   "file_extension": ".py",
   "mimetype": "text/x-python",
   "name": "python",
   "nbconvert_exporter": "python",
   "pygments_lexer": "ipython3",
   "version": "3.9.12"
  }
 },
 "nbformat": 4,
 "nbformat_minor": 5
}
